{
 "cells": [
  {
   "cell_type": "markdown",
   "metadata": {},
   "source": [
    "## Import mysql.connector, create connection to MySQL local server"
   ]
  },
  {
   "cell_type": "code",
   "execution_count": 1,
   "metadata": {},
   "outputs": [],
   "source": [
    "import mysql.connector"
   ]
  },
  {
   "cell_type": "code",
   "execution_count": 2,
   "metadata": {},
   "outputs": [],
   "source": [
    "mydb = mysql.connector.connect(auth_plugin='mysql_native_password', user=\"\", password=\"\")"
   ]
  },
  {
   "cell_type": "markdown",
   "metadata": {},
   "source": [
    "## Create cursor, generate country_club database and selecting it"
   ]
  },
  {
   "cell_type": "code",
   "execution_count": 3,
   "metadata": {},
   "outputs": [],
   "source": [
    "cursor = mydb.cursor(buffered=True)\n",
    "cursor.execute('CREATE DATABASE country_club')\n",
    "cursor.execute('USE country_club')"
   ]
  },
  {
   "cell_type": "markdown",
   "metadata": {},
   "source": [
    "### Data was downloaded as an SQL script from https://sql.springboard.com/\n",
    "### Script opened, read and closed\n",
    "### Commands transfered to a list"
   ]
  },
  {
   "cell_type": "code",
   "execution_count": 4,
   "metadata": {},
   "outputs": [],
   "source": [
    "file = open(\"country_club.sql\", \"r\")\n",
    "sql_script = file.read()\n",
    "file.close()"
   ]
  },
  {
   "cell_type": "code",
   "execution_count": 5,
   "metadata": {},
   "outputs": [],
   "source": [
    "sql_command_list = sql_script.split(';')"
   ]
  },
  {
   "cell_type": "code",
   "execution_count": 6,
   "metadata": {},
   "outputs": [
    {
     "data": {
      "text/plain": [
       "33"
      ]
     },
     "execution_count": 6,
     "metadata": {},
     "output_type": "execute_result"
    }
   ],
   "source": [
    "ommited_lines = []\n",
    "len(sql_command_list)"
   ]
  },
  {
   "cell_type": "markdown",
   "metadata": {},
   "source": [
    "### Executing the SQL commands to generate database. In some cases the program was skipping lines because were starting with invalid characters and this was fixed by finding the word INSERT in the line and staring the command from there"
   ]
  },
  {
   "cell_type": "code",
   "execution_count": 7,
   "metadata": {},
   "outputs": [],
   "source": [
    "for line in sql_command_list:\n",
    "    try:\n",
    "        cursor.execute(line)\n",
    "    except:\n",
    "        try:\n",
    "            cursor.execute(line[line.find(\"INSERT\"):])\n",
    "        except:\n",
    "            ommited_lines.append(line)"
   ]
  },
  {
   "cell_type": "code",
   "execution_count": 8,
   "metadata": {},
   "outputs": [
    {
     "data": {
      "text/plain": [
       "['\\n']"
      ]
     },
     "execution_count": 8,
     "metadata": {},
     "output_type": "execute_result"
    }
   ],
   "source": [
    "ommited_lines"
   ]
  },
  {
   "cell_type": "markdown",
   "metadata": {},
   "source": [
    "### Showing tables imported"
   ]
  },
  {
   "cell_type": "code",
   "execution_count": 9,
   "metadata": {},
   "outputs": [],
   "source": [
    "cursor.execute(\"SHOW TABLES\")"
   ]
  },
  {
   "cell_type": "code",
   "execution_count": 10,
   "metadata": {},
   "outputs": [
    {
     "name": "stdout",
     "output_type": "stream",
     "text": [
      "('bookings',)\n",
      "('facilities',)\n",
      "('members',)\n"
     ]
    }
   ],
   "source": [
    "for x in cursor:\n",
    "    print(x)"
   ]
  },
  {
   "cell_type": "markdown",
   "metadata": {},
   "source": [
    "### Q1: Some of the facilities charge a fee to members, but some do not. Please list the names of the facilities that do."
   ]
  },
  {
   "cell_type": "code",
   "execution_count": 11,
   "metadata": {},
   "outputs": [
    {
     "name": "stdout",
     "output_type": "stream",
     "text": [
      "('Badminton Court',)\n",
      "('Table Tennis',)\n",
      "('Snooker Table',)\n",
      "('Pool Table',)\n"
     ]
    }
   ],
   "source": [
    "cursor.execute(\"SELECT name FROM Facilities WHERE membercost = 0\")\n",
    "myresult = cursor.fetchall()\n",
    "for x in myresult:\n",
    "  print(x)"
   ]
  },
  {
   "cell_type": "markdown",
   "metadata": {},
   "source": [
    "### Q2: How many facilities do not charge a fee to members?"
   ]
  },
  {
   "cell_type": "code",
   "execution_count": 12,
   "metadata": {},
   "outputs": [
    {
     "name": "stdout",
     "output_type": "stream",
     "text": [
      "(4,)\n"
     ]
    }
   ],
   "source": [
    "cursor.execute(\"SELECT COUNT( * ) AS facilities_no_charge FROM Facilities WHERE membercost = 0\")\n",
    "myresult = cursor.fetchall()\n",
    "for x in myresult:\n",
    "  print(x)"
   ]
  },
  {
   "cell_type": "markdown",
   "metadata": {},
   "source": [
    "### Q3: How can you produce a list of facilities that charge a fee to members, where the fee is less than 20% of the facility's monthly maintenance cost? Return the facid, facility name, member cost, and monthly maintenance of the facilities in question"
   ]
  },
  {
   "cell_type": "code",
   "execution_count": 13,
   "metadata": {},
   "outputs": [
    {
     "name": "stdout",
     "output_type": "stream",
     "text": [
      "(0, 'Tennis Court 1', Decimal('5.0'), 200)\n",
      "(1, 'Tennis Court 2', Decimal('5.0'), 200)\n",
      "(4, 'Massage Room 1', Decimal('9.9'), 3000)\n",
      "(5, 'Massage Room 2', Decimal('9.9'), 3000)\n",
      "(6, 'Squash Court', Decimal('3.5'), 80)\n"
     ]
    }
   ],
   "source": [
    "cursor.execute(\"SELECT facid, name, membercost, monthlymaintenance \\\n",
    "                FROM Facilities \\\n",
    "                WHERE (membercost > 0) AND (membercost < 0.2 * monthlymaintenance)\")\n",
    "myresult = cursor.fetchall()\n",
    "for x in myresult:\n",
    "  print(x)"
   ]
  },
  {
   "cell_type": "markdown",
   "metadata": {},
   "source": [
    "### Q4: How can you retrieve the details of facilities with ID 1 and 5? Write the query without using the OR operator."
   ]
  },
  {
   "cell_type": "code",
   "execution_count": 14,
   "metadata": {},
   "outputs": [
    {
     "name": "stdout",
     "output_type": "stream",
     "text": [
      "(1, 'Tennis Court 2', Decimal('5.0'), Decimal('25.0'), 8000, 200)\n",
      "(5, 'Massage Room 2', Decimal('9.9'), Decimal('80.0'), 4000, 3000)\n"
     ]
    }
   ],
   "source": [
    "cursor.execute(\"SELECT * FROM Facilities WHERE facid = 1 \\\n",
    "                UNION \\\n",
    "                SELECT * FROM Facilities WHERE facid = 5\")\n",
    "myresult = cursor.fetchall()\n",
    "for x in myresult:\n",
    "  print(x)"
   ]
  },
  {
   "cell_type": "markdown",
   "metadata": {},
   "source": [
    "### Q5: How can you produce a list of facilities, with each labelled as 'cheap' or 'expensive', depending on if their monthly maintenance cost is more than 100? Return the name and monthly maintenance of the facilities in question."
   ]
  },
  {
   "cell_type": "code",
   "execution_count": 15,
   "metadata": {},
   "outputs": [
    {
     "name": "stdout",
     "output_type": "stream",
     "text": [
      "('Tennis Court 1', 200, 'expensive')\n",
      "('Tennis Court 2', 200, 'expensive')\n",
      "('Badminton Court', 50, 'cheap')\n",
      "('Table Tennis', 10, 'cheap')\n",
      "('Massage Room 1', 3000, 'expensive')\n",
      "('Massage Room 2', 3000, 'expensive')\n",
      "('Squash Court', 80, 'cheap')\n",
      "('Snooker Table', 15, 'cheap')\n",
      "('Pool Table', 15, 'cheap')\n"
     ]
    }
   ],
   "source": [
    "cursor.execute(\"SELECT name, monthlymaintenance, \\\n",
    "                CASE WHEN monthlymaintenance >100 THEN  'expensive' ELSE  'cheap' END AS TYPE \\\n",
    "                FROM Facilities\")\n",
    "myresult = cursor.fetchall()\n",
    "for x in myresult:\n",
    "  print(x)"
   ]
  },
  {
   "cell_type": "markdown",
   "metadata": {},
   "source": [
    "### Q6: You'd like to get the first and last name of the last member(s) who signed up. Do not use the LIMIT clause for your solution"
   ]
  },
  {
   "cell_type": "code",
   "execution_count": 16,
   "metadata": {},
   "outputs": [
    {
     "name": "stdout",
     "output_type": "stream",
     "text": [
      "('Darren', 'Smith')\n"
     ]
    }
   ],
   "source": [
    "cursor.execute(\"SELECT sub.firstname, sub.surname \\\n",
    "                FROM (SELECT firstname, surname, MAX(joindate) \\\n",
    "                      FROM Members WHERE surname !=  'GUEST') sub\")\n",
    "myresult = cursor.fetchall()\n",
    "for x in myresult:\n",
    "  print(x)"
   ]
  },
  {
   "cell_type": "markdown",
   "metadata": {},
   "source": [
    "### Q7: How can you produce a list of all members who have used a tennis court? Include in your output the name of the court, and the name of the member formatted as   single column. Ensure no duplicate data, and order by the member name."
   ]
  },
  {
   "cell_type": "code",
   "execution_count": 17,
   "metadata": {},
   "outputs": [
    {
     "name": "stdout",
     "output_type": "stream",
     "text": [
      "('Anne Baker',)\n",
      "('Burton Tracy',)\n",
      "('Charles Owen',)\n",
      "('Darren Smith',)\n",
      "('David Farrell',)\n",
      "('David Jones',)\n",
      "('David Pinker',)\n",
      "('Douglas Jones',)\n",
      "('Erica Crumpet',)\n",
      "('Florence Bader',)\n",
      "('Gerald Butters',)\n",
      "('Henrietta Rumney',)\n",
      "('Jack Smith',)\n",
      "('Janice Joplette',)\n",
      "('Jemima Farrell',)\n",
      "('Joan Coplin',)\n",
      "('John Hunt',)\n",
      "('Matthew Genting',)\n",
      "('Millicent Purview',)\n",
      "('Nancy Dare',)\n",
      "('Ponder Stibbons',)\n",
      "('Ramnaresh Sarwin',)\n",
      "('Tim Boothe',)\n",
      "('Tim Rownam',)\n",
      "('Timothy Baker',)\n",
      "('Tracy Smith',)\n"
     ]
    }
   ],
   "source": [
    "cursor.execute(\"SELECT DISTINCT CONCAT(members.firstname, ' ', members.surname) AS full_name \\\n",
    "                FROM country_club.Members members \\\n",
    "                JOIN (SELECT bookings.facid, bookings.memid FROM country_club.Bookings bookings \\\n",
    "                JOIN country_club.Facilities facilities \\\n",
    "                ON bookings.facid = facilities.facid AND facilities.name LIKE '%Tennis Court%') sub \\\n",
    "                ON members.memid = sub.memid AND members.firstname NOT LIKE 'GUEST%' ORDER BY 1\")\n",
    "myresult = cursor.fetchall()\n",
    "for x in myresult:\n",
    "  print(x)"
   ]
  },
  {
   "cell_type": "markdown",
   "metadata": {},
   "source": [
    "### Q8: How can you produce a list of bookings on the day of 2012-09-14 which will cost the member (or guest) more than 30? Remember that guests have different costs to members (the listed costs are per half-hour 'slot'), and the guest user's ID is always 0. Include in your output the name of the facility, the name of the member formatted as a single column, and the cost. Order by descending cost, and do not use any subqueries."
   ]
  },
  {
   "cell_type": "code",
   "execution_count": 18,
   "metadata": {},
   "outputs": [
    {
     "name": "stdout",
     "output_type": "stream",
     "text": [
      "('Massage Room 2', 'GUEST GUEST', Decimal('320.0'))\n",
      "('Massage Room 1', 'GUEST GUEST', Decimal('160.0'))\n",
      "('Massage Room 1', 'GUEST GUEST', Decimal('160.0'))\n",
      "('Massage Room 1', 'GUEST GUEST', Decimal('160.0'))\n",
      "('Tennis Court 2', 'GUEST GUEST', Decimal('150.0'))\n",
      "('Tennis Court 1', 'GUEST GUEST', Decimal('75.0'))\n",
      "('Tennis Court 2', 'GUEST GUEST', Decimal('75.0'))\n",
      "('Tennis Court 1', 'GUEST GUEST', Decimal('75.0'))\n",
      "('Squash Court', 'GUEST GUEST', Decimal('70.0'))\n",
      "('Massage Room 1', 'Jemima Farrell', Decimal('39.6'))\n",
      "('Squash Court', 'GUEST GUEST', Decimal('35.0'))\n",
      "('Squash Court', 'GUEST GUEST', Decimal('35.0'))\n"
     ]
    }
   ],
   "source": [
    "cursor.execute(\"SELECT facilities.name, CONCAT(members.firstname,  ' ', members.surname) as full_name,\\\n",
    "                CASE WHEN bookings.memid = 0 THEN facilities.guestcost * bookings.slots \\\n",
    "                     ELSE facilities.membercost * slots END AS cost \\\n",
    "                FROM country_club.Bookings bookings \\\n",
    "                JOIN country_club.Members members \\\n",
    "                ON bookings.memid = members.memid AND DATE(bookings.starttime) = '2012-09-14' \\\n",
    "                JOIN country_club.Facilities facilities \\\n",
    "                ON bookings.facid = facilities.facid HAVING cost > 30 ORDER BY 3 DESC\")\n",
    "myresult = cursor.fetchall()\n",
    "for x in myresult:\n",
    "  print(x)"
   ]
  },
  {
   "cell_type": "markdown",
   "metadata": {},
   "source": [
    "### Q9: This time, produce the same result as in Q8, but using a subquery."
   ]
  },
  {
   "cell_type": "code",
   "execution_count": 19,
   "metadata": {},
   "outputs": [
    {
     "name": "stdout",
     "output_type": "stream",
     "text": [
      "('Massage Room 2', 'GUEST GUEST', Decimal('320.0'))\n",
      "('Massage Room 1', 'GUEST GUEST', Decimal('160.0'))\n",
      "('Massage Room 1', 'GUEST GUEST', Decimal('160.0'))\n",
      "('Massage Room 1', 'GUEST GUEST', Decimal('160.0'))\n",
      "('Tennis Court 2', 'GUEST GUEST', Decimal('150.0'))\n",
      "('Tennis Court 1', 'GUEST GUEST', Decimal('75.0'))\n",
      "('Tennis Court 1', 'GUEST GUEST', Decimal('75.0'))\n",
      "('Tennis Court 2', 'GUEST GUEST', Decimal('75.0'))\n",
      "('Squash Court', 'GUEST GUEST', Decimal('70.0'))\n",
      "('Massage Room 1', 'Jemima Farrell', Decimal('39.6'))\n",
      "('Squash Court', 'GUEST GUEST', Decimal('35.0'))\n",
      "('Squash Court', 'GUEST GUEST', Decimal('35.0'))\n"
     ]
    }
   ],
   "source": [
    "cursor.execute(\"SELECT sub.fac_name, sub.full_name, sub.cost \\\n",
    "FROM (SELECT facilities.name AS fac_name, CONCAT(members.firstname,  ' ', members.surname) AS full_name, \\\n",
    "             CASE WHEN bookings.memid = 0 THEN facilities.guestcost * bookings.slots \\\n",
    "             ELSE facilities.membercost * slots END AS cost \\\n",
    "      FROM country_club.Bookings bookings \\\n",
    "      JOIN country_club.Members members ON bookings.memid = members.memid AND DATE(bookings.starttime) = '2012-09-14' \\\n",
    "      JOIN country_club.Facilities facilities ON bookings.facid = facilities.facid) sub \\\n",
    "      WHERE sub.cost > 30 \\\n",
    "      ORDER BY 3 DESC\")\n",
    "myresult = cursor.fetchall()\n",
    "for x in myresult:\n",
    "  print(x)"
   ]
  },
  {
   "cell_type": "markdown",
   "metadata": {},
   "source": [
    "### Q10: Produce a list of facilities with a total revenue less than 1000. The output of facility name and total revenue, sorted by revenue. Remember that there's a different cost for guests and members!"
   ]
  },
  {
   "cell_type": "code",
   "execution_count": 20,
   "metadata": {},
   "outputs": [
    {
     "name": "stdout",
     "output_type": "stream",
     "text": [
      "('Table Tennis', Decimal('180.0'))\n",
      "('Snooker Table', Decimal('240.0'))\n",
      "('Pool Table', Decimal('270.0'))\n"
     ]
    }
   ],
   "source": [
    "cursor.execute(\"SELECT facilities.name, \\\n",
    "                SUM(CASE WHEN bookings.memid = 0 THEN facilities.guestcost * bookings.slots \\\n",
    "                         ELSE facilities.membercost * bookings.slots END) AS total_revenue \\\n",
    "                FROM country_club.Facilities facilities \\\n",
    "                JOIN country_club.Bookings bookings \\\n",
    "                ON facilities.facid = bookings.facid \\\n",
    "                GROUP BY 1 HAVING total_revenue <1000 ORDER BY 2 \")\n",
    "myresult = cursor.fetchall()\n",
    "for x in myresult:\n",
    "  print(x)"
   ]
  },
  {
   "cell_type": "code",
   "execution_count": null,
   "metadata": {},
   "outputs": [],
   "source": []
  }
 ],
 "metadata": {
  "kernelspec": {
   "display_name": "Python 3",
   "language": "python",
   "name": "python3"
  },
  "language_info": {
   "codemirror_mode": {
    "name": "ipython",
    "version": 3
   },
   "file_extension": ".py",
   "mimetype": "text/x-python",
   "name": "python",
   "nbconvert_exporter": "python",
   "pygments_lexer": "ipython3",
   "version": "3.6.5"
  }
 },
 "nbformat": 4,
 "nbformat_minor": 2
}
